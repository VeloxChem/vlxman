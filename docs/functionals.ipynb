{
 "cells": [
  {
   "cell_type": "markdown",
   "id": "89c67022",
   "metadata": {
    "tags": []
   },
   "source": [
    "# Exchange–correlation functionals"
   ]
  },
  {
   "cell_type": "markdown",
   "id": "d7426e48-2d77-40bf-99d5-871ac4f3449b",
   "metadata": {},
   "source": [
    "## Available functionals\n",
    "\n",
    "The density functionals provided in the VeloxChem library can be listed with the `available_functionals` method."
   ]
  },
  {
   "cell_type": "code",
   "execution_count": null,
   "id": "da13ac76",
   "metadata": {},
   "outputs": [],
   "source": [
    "import veloxchem as vlx\n",
    "\n",
    "print(vlx.available_functionals())"
   ]
  },
  {
   "cell_type": "markdown",
   "id": "a423f308-835f-46b9-a73c-c4b030456c1d",
   "metadata": {},
   "source": [
    "More functionals are being implemented and range-separated hybrids are a priority."
   ]
  },
  {
   "cell_type": "markdown",
   "id": "16a36d02",
   "metadata": {},
   "source": [
    "## DFT settings\n",
    "\n",
    "The choice of functional and related settings are performed in the input file section `method settings`:\n",
    "\n",
    "```\n",
    "@method settings\n",
    "xcfun: b3lyp\n",
    "grid_level: 4\n",
    "@end\n",
    "```\n",
    "\n",
    "To change to another functional, replace `b3lyp` with any of the others (as spelled in the list above).\n",
    "\n",
    "Grid densities are available up to level 6. Level 4 (default) is recommended for production calculations."
   ]
  }
 ],
 "metadata": {
  "kernelspec": {
   "display_name": "Python 3 (ipykernel)",
   "language": "python",
   "name": "python3"
  },
  "language_info": {
   "codemirror_mode": {
    "name": "ipython",
    "version": 3
   },
   "file_extension": ".py",
   "mimetype": "text/x-python",
   "name": "python",
   "nbconvert_exporter": "python",
   "pygments_lexer": "ipython3",
   "version": "3.9.13"
  }
 },
 "nbformat": 4,
 "nbformat_minor": 5
}
