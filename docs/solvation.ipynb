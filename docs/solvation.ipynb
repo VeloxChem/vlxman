{
 "cells": [
  {
   "cell_type": "markdown",
   "metadata": {
    "editable": true,
    "slideshow": {
     "slide_type": ""
    },
    "tags": []
   },
   "source": [
    "(sec:solvation)=\n",
    "# System solvation"
   ]
  },
  {
   "cell_type": "code",
   "execution_count": null,
   "metadata": {
    "editable": true,
    "slideshow": {
     "slide_type": ""
    },
    "tags": []
   },
   "outputs": [],
   "source": [
    "import veloxchem as vlx"
   ]
  },
  {
   "cell_type": "markdown",
   "metadata": {
    "editable": true,
    "slideshow": {
     "slide_type": ""
    },
    "tags": []
   },
   "source": [
    "## Building systems"
   ]
  },
  {
   "cell_type": "markdown",
   "metadata": {
    "editable": true,
    "slideshow": {
     "slide_type": ""
    },
    "tags": []
   },
   "source": [
    "VeloxChem can be used to solvate system in preparation for molecular dynamics simulations. "
   ]
  },
  {
   "cell_type": "markdown",
   "metadata": {
    "editable": true,
    "slideshow": {
     "slide_type": ""
    },
    "tags": []
   },
   "source": [
    "First, create a molecule object for the solute, in our example we choose deprotonated ibuprofen."
   ]
  },
  {
   "cell_type": "code",
   "execution_count": null,
   "metadata": {
    "editable": true,
    "slideshow": {
     "slide_type": ""
    },
    "tags": []
   },
   "outputs": [],
   "source": [
    "solute = vlx.Molecule.read_smiles(\"CC(C)CC1=CC=C(C=C1)C(C)C(=O)[O-]\")"
   ]
  },
  {
   "cell_type": "code",
   "execution_count": null,
   "metadata": {
    "editable": true,
    "slideshow": {
     "slide_type": ""
    },
    "tags": []
   },
   "outputs": [],
   "source": [
    "solute.show()"
   ]
  },
  {
   "cell_type": "markdown",
   "metadata": {
    "editable": true,
    "slideshow": {
     "slide_type": ""
    },
    "tags": []
   },
   "source": [
    "Second, generate a force field for the solute. By default RESP charges will be computed but, here, we instead make use of semi-empirical partial charges for faster execution."
   ]
  },
  {
   "cell_type": "code",
   "execution_count": null,
   "metadata": {
    "editable": true,
    "slideshow": {
     "slide_type": ""
    },
    "tags": [
     "remove-output"
    ]
   },
   "outputs": [],
   "source": [
    "ff_gen = vlx.MMForceFieldGenerator()\n",
    "\n",
    "ff_gen.partial_charges = solute.get_partial_charges(solute.get_charge())\n",
    "ff_gen.create_topology(solute)"
   ]
  },
  {
   "cell_type": "markdown",
   "metadata": {
    "editable": true,
    "slideshow": {
     "slide_type": ""
    },
    "tags": []
   },
   "source": [
    "Third, we use of the `SolvationBuilder` class to create a simulation box with a solute padding 1.0 nm (default) consisting of SPC/E water (default). \n",
    "\n",
    "The solvator will run an *NPT* equilibration of 5 ps at 300K."
   ]
  },
  {
   "cell_type": "code",
   "execution_count": null,
   "metadata": {
    "editable": true,
    "scrolled": true,
    "slideshow": {
     "slide_type": ""
    },
    "tags": [
     "remove-output"
    ]
   },
   "outputs": [],
   "source": [
    "solvator = vlx.SolvationBuilder()\n",
    "\n",
    "solvator.solvate(solute, equilibrate=True, neutralize=False)"
   ]
  },
  {
   "cell_type": "code",
   "execution_count": null,
   "metadata": {
    "editable": true,
    "slideshow": {
     "slide_type": ""
    },
    "tags": []
   },
   "outputs": [],
   "source": [
    "solvator.system_molecule.show()"
   ]
  },
  {
   "cell_type": "markdown",
   "metadata": {
    "editable": true,
    "slideshow": {
     "slide_type": ""
    },
    "tags": []
   },
   "source": [
    "## Mixed solvents\n",
    "\n",
    "Solvents can be mixed. Molecule objects are created for each type of solvent molecules. "
   ]
  },
  {
   "cell_type": "code",
   "execution_count": null,
   "metadata": {
    "editable": true,
    "slideshow": {
     "slide_type": ""
    },
    "tags": []
   },
   "outputs": [],
   "source": [
    "water = vlx.Molecule.read_smiles(\"O\")\n",
    "propylene_glycol = vlx.Molecule.read_smiles(\"CC(CO)O\")"
   ]
  },
  {
   "cell_type": "markdown",
   "metadata": {
    "editable": true,
    "slideshow": {
     "slide_type": ""
    },
    "tags": []
   },
   "source": [
    "Let us consider a solvation with equal, or 50/50, amounts of water and propylene glycol. "
   ]
  },
  {
   "cell_type": "code",
   "execution_count": null,
   "metadata": {
    "editable": true,
    "slideshow": {
     "slide_type": ""
    },
    "tags": []
   },
   "outputs": [],
   "source": [
    "solvator.custom_solvate(\n",
    "    solute,\n",
    "    solvents=[water, propylene_glycol],\n",
    "    proportion=[50, 50],\n",
    "    box_size=(40, 40, 40),\n",
    ")"
   ]
  },
  {
   "cell_type": "code",
   "execution_count": null,
   "metadata": {
    "editable": true,
    "slideshow": {
     "slide_type": ""
    },
    "tags": []
   },
   "outputs": [],
   "source": [
    "solvator.custom_solvate(\n",
    "    solute,\n",
    "    solvents=[water, propylene_glycol],\n",
    "    quantities=[200, 200],\n",
    "    box=(40, 40, 40),\n",
    ")"
   ]
  },
  {
   "cell_type": "code",
   "execution_count": null,
   "metadata": {
    "editable": true,
    "slideshow": {
     "slide_type": ""
    },
    "tags": []
   },
   "outputs": [],
   "source": [
    "solvator.system_molecule.show()"
   ]
  },
  {
   "cell_type": "markdown",
   "metadata": {
    "editable": true,
    "slideshow": {
     "slide_type": ""
    },
    "tags": []
   },
   "source": [
    "## Free Energy of Solvation"
   ]
  },
  {
   "cell_type": "markdown",
   "metadata": {
    "editable": true,
    "slideshow": {
     "slide_type": ""
    },
    "tags": []
   },
   "source": [
    "The free energy of solvation for ibuprofen in a mix of water and propylene glycol is computed with the SolvationFepDriver using the gromacs files generated from the SolvationBuilder as input. The functon requires a gro and topology file for both the solvated system and the molecule in vacuum."
   ]
  },
  {
   "cell_type": "code",
   "execution_count": null,
   "metadata": {
    "editable": true,
    "scrolled": true,
    "slideshow": {
     "slide_type": ""
    },
    "tags": []
   },
   "outputs": [],
   "source": [
    "solvation = vlx.SolvationFepDriver()\n",
    "\n",
    "# Settings are here chosen for a quick execution, use the default settings\n",
    "solvation.num_steps = 5000\n",
    "solvation.number_of_snapshots = 500\n",
    "\n",
    "solvation_results = solvation.compute(ibuprof, ff_solute)"
   ]
  },
  {
   "cell_type": "code",
   "execution_count": null,
   "metadata": {
    "editable": true,
    "slideshow": {
     "slide_type": ""
    },
    "tags": [
     "remove-output"
    ]
   },
   "outputs": [],
   "source": [
    "print(\"FEP solvation energy:\", solvation_results[\"free_energy\"])"
   ]
  },
  {
   "cell_type": "markdown",
   "metadata": {
    "editable": true,
    "slideshow": {
     "slide_type": ""
    },
    "tags": []
   },
   "source": [
    "### Calculations based on files"
   ]
  },
  {
   "cell_type": "code",
   "execution_count": null,
   "metadata": {
    "editable": true,
    "scrolled": true,
    "slideshow": {
     "slide_type": ""
    },
    "tags": []
   },
   "outputs": [],
   "source": [
    "# solvationfep = vlx.SolvationFepDriver()\n",
    "\n",
    "# solvator.write_gromacs_files(solute_ff=ff_solute)\n",
    "# solvator.write_openmm_files(solute_ff=ff_solute)\n",
    "\n",
    "# Optional, saving trajectory from each lambda simulation in xtc format\n",
    "# solvationfep.save_trajectory_xtc = True\n",
    "\n",
    "\n",
    "\n",
    "# solvation_results = solvationfep.compute_solvation_from_gromacs_files(\n",
    "#    \"system.gro\", \"system.top\", \"ibuprof.gro\", \"ibuprof.top\"\n",
    "# )\n",
    "\n",
    "# solvation_results = solvationfep.compute_solvation_from_omm_files(\n",
    "#    \"system.pdb\", \"solute.pdb\", \"solute.xml\", [\"solvent_1.xml\"]\n",
    "# )"
   ]
  },
  {
   "cell_type": "code",
   "execution_count": null,
   "metadata": {
    "editable": true,
    "slideshow": {
     "slide_type": ""
    },
    "tags": []
   },
   "outputs": [],
   "source": []
  }
 ],
 "metadata": {
  "kernelspec": {
   "display_name": "Python 3 (ipykernel)",
   "language": "python",
   "name": "python3"
  },
  "language_info": {
   "codemirror_mode": {
    "name": "ipython",
    "version": 3
   },
   "file_extension": ".py",
   "mimetype": "text/x-python",
   "name": "python",
   "nbconvert_exporter": "python",
   "pygments_lexer": "ipython3",
   "version": "3.12.11"
  }
 },
 "nbformat": 4,
 "nbformat_minor": 4
}
