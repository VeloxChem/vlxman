{
 "cells": [
  {
   "cell_type": "markdown",
   "id": "9bdb2681",
   "metadata": {},
   "source": [
    "# Input file keywords\n",
    "\n",
    "Keywords for the various input sections in the program input file can be listed by means of the `print_keyword()` class method. Examples are given below."
   ]
  },
  {
   "cell_type": "code",
   "execution_count": 3,
   "id": "89e61d0b",
   "metadata": {},
   "outputs": [
    {
     "name": "stdout",
     "output_type": "stream",
     "text": [
      "* Warning * Environment variable OMP_NUM_THREADS not set.\n",
      "* Warning * Setting OMP_NUM_THREADS to 4.\n"
     ]
    }
   ],
   "source": [
    "import veloxchem as vlx"
   ]
  },
  {
   "cell_type": "markdown",
   "id": "278744cf",
   "metadata": {},
   "source": [
    "## SCF optimization"
   ]
  },
  {
   "cell_type": "code",
   "execution_count": 9,
   "id": "c0f6fed1",
   "metadata": {},
   "outputs": [
    {
     "name": "stdout",
     "output_type": "stream",
     "text": [
      "                     ================================================================================                     \n",
      "                       @scf                                                                                               \n",
      "                     --------------------------------------------------------------------------------                     \n",
      "                       acc_type            string         type of SCF convergence accelerator                             \n",
      "                       max_iter            integer        maximum number of SCF iterations                                \n",
      "                       conv_thresh         float          SCF convergence threshold                                       \n",
      "                       qq_type             string         ERI screening scheme                                            \n",
      "                       eri_thresh          float          ERI screening threshold                                         \n",
      "                       restart             boolean        restart from checkpoint file                                    \n",
      "                       checkpoint_file     string         name of checkpoint file                                         \n",
      "                       timing              boolean        print timing information                                        \n",
      "                       profiling           boolean        print profiling information                                     \n",
      "                       memory_profiling    boolean        print memory usage                                              \n",
      "                       memory_tracing      boolean        trace memory allocation                                         \n",
      "                     ================================================================================                     \n",
      "                       @method_settings                                                                                   \n",
      "                     --------------------------------------------------------------------------------                     \n",
      "                       dispersion          boolean        use D4 dispersion correction                                    \n",
      "                       dft                 boolean        use DFT                                                         \n",
      "                       xcfun               string         exchange-correlation functional                                 \n",
      "                       grid_level          integer        accuracy level of DFT grid                                      \n",
      "                       pe                  boolean        use polarizable embedding                                       \n",
      "                       potfile             string         potential file for polarizable embedding                        \n",
      "                       electric_field      sequence       static electric field                                           \n",
      "                       use_split_comm      boolean        use split communicators                                         \n",
      "                     ================================================================================                     \n"
     ]
    }
   ],
   "source": [
    "scf_drv = vlx.ScfRestrictedDriver()\n",
    "\n",
    "scf_drv.print_keywords()"
   ]
  },
  {
   "cell_type": "markdown",
   "id": "e061f580",
   "metadata": {},
   "source": [
    "## UV/vis absorption spectrum"
   ]
  },
  {
   "cell_type": "code",
   "execution_count": 7,
   "id": "eff2aee2",
   "metadata": {},
   "outputs": [
    {
     "name": "stdout",
     "output_type": "stream",
     "text": [
      "                     ================================================================================                     \n",
      "                       @response                                                                                          \n",
      "                     --------------------------------------------------------------------------------                     \n",
      "                       eri_thresh          float          ERI screening threshold                                         \n",
      "                       qq_type             string         ERI screening scheme                                            \n",
      "                       batch_size          integer        batch size for Fock build                                       \n",
      "                       conv_thresh         float          convergence threshold                                           \n",
      "                       max_iter            integer        maximum number of iterations                                    \n",
      "                       lindep_thresh       float          threshold for linear dependence                                 \n",
      "                       restart             boolean        restart from checkpoint file                                    \n",
      "                       checkpoint_file     string         name of checkpoint file                                         \n",
      "                       timing              boolean        print timing information                                        \n",
      "                       profiling           boolean        print profiling information                                     \n",
      "                       memory_profiling    boolean        print memory usage                                              \n",
      "                       memory_tracing      boolean        trace memory allocation                                         \n",
      "                       nstates             integer        number of excited states                                        \n",
      "                       nto                 boolean        analyze natural transition orbitals                             \n",
      "                       nto_pairs           integer        number of NTO pairs in NTO analysis                             \n",
      "                       detach_attach       boolean        analyze detachment/attachment density                           \n",
      "                       cube_origin         sequence       origin of cubic grid points                                     \n",
      "                       cube_stepsize       sequence       step size of cubic grid points                                  \n",
      "                       cube_points         sequence       number of cubic grid points                                     \n",
      "                       tamm_dancoff        boolean        use Tamm-Dancoff approximation                                  \n",
      "                     ================================================================================                     \n",
      "                       @method_settings                                                                                   \n",
      "                     --------------------------------------------------------------------------------                     \n",
      "                       dft                 boolean        use DFT                                                         \n",
      "                       xcfun               string         exchange-correlation functional                                 \n",
      "                       grid_level          integer        accuracy level of DFT grid                                      \n",
      "                       pe                  boolean        use polarizable embedding                                       \n",
      "                       potfile             string         potential file for polarizable embedding                        \n",
      "                       electric_field      sequence       static electric field                                           \n",
      "                       use_split_comm      boolean        use split communicators                                         \n",
      "                     ================================================================================                     \n"
     ]
    }
   ],
   "source": [
    "prop = vlx.Absorption()\n",
    "prop.init_driver()\n",
    "\n",
    "prop.print_keywords()"
   ]
  },
  {
   "cell_type": "markdown",
   "id": "0e70b3b0",
   "metadata": {},
   "source": [
    "## Complex response solver"
   ]
  },
  {
   "cell_type": "code",
   "execution_count": 6,
   "id": "0488fc3d",
   "metadata": {},
   "outputs": [
    {
     "name": "stdout",
     "output_type": "stream",
     "text": [
      "                     ================================================================================                     \n",
      "                       @response                                                                                          \n",
      "                     --------------------------------------------------------------------------------                     \n",
      "                       eri_thresh          float          ERI screening threshold                                         \n",
      "                       qq_type             string         ERI screening scheme                                            \n",
      "                       batch_size          integer        batch size for Fock build                                       \n",
      "                       conv_thresh         float          convergence threshold                                           \n",
      "                       max_iter            integer        maximum number of iterations                                    \n",
      "                       lindep_thresh       float          threshold for linear dependence                                 \n",
      "                       restart             boolean        restart from checkpoint file                                    \n",
      "                       checkpoint_file     string         name of checkpoint file                                         \n",
      "                       timing              boolean        print timing information                                        \n",
      "                       profiling           boolean        print profiling information                                     \n",
      "                       memory_profiling    boolean        print memory usage                                              \n",
      "                       memory_tracing      boolean        trace memory allocation                                         \n",
      "                       a_operator          string         A operator                                                      \n",
      "                       a_components        string         Cartesian components of A operator                              \n",
      "                       b_operator          string         B operator                                                      \n",
      "                       b_components        string         Cartesian components of B operator                              \n",
      "                       frequencies         sequence       frequencies                                                     \n",
      "                       damping             float          damping parameter                                               \n",
      "                     ================================================================================                     \n",
      "                       @method_settings                                                                                   \n",
      "                     --------------------------------------------------------------------------------                     \n",
      "                       dft                 boolean        use DFT                                                         \n",
      "                       xcfun               string         exchange-correlation functional                                 \n",
      "                       grid_level          integer        accuracy level of DFT grid                                      \n",
      "                       pe                  boolean        use polarizable embedding                                       \n",
      "                       potfile             string         potential file for polarizable embedding                        \n",
      "                       electric_field      sequence       static electric field                                           \n",
      "                       use_split_comm      boolean        use split communicators                                         \n",
      "                     ================================================================================                     \n"
     ]
    }
   ],
   "source": [
    "cpp_solver = vlx.ComplexResponse()\n",
    "\n",
    "cpp_solver.print_keywords()"
   ]
  },
  {
   "cell_type": "code",
   "execution_count": null,
   "id": "fa392cf4",
   "metadata": {},
   "outputs": [],
   "source": []
  }
 ],
 "metadata": {
  "kernelspec": {
   "display_name": "Python 3 (ipykernel)",
   "language": "python",
   "name": "python3"
  },
  "language_info": {
   "codemirror_mode": {
    "name": "ipython",
    "version": 3
   },
   "file_extension": ".py",
   "mimetype": "text/x-python",
   "name": "python",
   "nbconvert_exporter": "python",
   "pygments_lexer": "ipython3",
   "version": "3.9.7"
  }
 },
 "nbformat": 4,
 "nbformat_minor": 5
}
