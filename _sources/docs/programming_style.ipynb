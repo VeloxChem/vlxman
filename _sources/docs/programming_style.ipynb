{
 "cells": [
  {
   "cell_type": "markdown",
   "id": "312d59a5",
   "metadata": {},
   "source": [
    "# Programming style"
   ]
  },
  {
   "cell_type": "markdown",
   "id": "5e2aeae3",
   "metadata": {},
   "source": [
    "## Python style\n",
    "\n",
    "We follow the [PEP8](https://www.python.org/dev/peps/pep-0008/) style guide and use [yapf](https://pypi.org/project/yapf/) and [flake8](https://pypi.org/project/flake8/) to format the code. We have the following settings in `setup.cfg`:\n",
    "\n",
    "```\n",
    "[yapf]\n",
    "based_on_style = google\n",
    "allow_split_before_dict_value = False\n",
    "\n",
    "[flake8]\n",
    "max-line-length = 80\n",
    "```"
   ]
  },
  {
   "cell_type": "markdown",
   "id": "b9a93350",
   "metadata": {},
   "source": [
    "## C++ style\n",
    "\n",
    "The C++ code should be formatted using [clang-format](https://clang.llvm.org/docs/ClangFormat.html). We have the following settings in `.clang-format`:\n",
    "\n",
    "```\n",
    "---\n",
    "BasedOnStyle: Google\n",
    "AlignAfterOpenBracket: Align\n",
    "AlignConsecutiveAssignments: true\n",
    "AlignConsecutiveDeclarations: true\n",
    "AlignOperands: true\n",
    "AlignTrailingComments: true\n",
    "AllowAllParametersOfDeclarationOnNextLine: false\n",
    "AllowShortBlocksOnASingleLine: false\n",
    "AllowShortCaseLabelsOnASingleLine: false\n",
    "AllowShortFunctionsOnASingleLine: None\n",
    "AllowShortLoopsOnASingleLine: false\n",
    "AlwaysBreakAfterReturnType: AllDefinitions\n",
    "AlwaysBreakTemplateDeclarations: true\n",
    "BinPackArguments: false\n",
    "BinPackParameters: false\n",
    "BraceWrapping:\n",
    "  IndentBraces:    false\n",
    "  AfterNamespace:  false\n",
    "  AfterClass:      true\n",
    "  AfterFunction:   true\n",
    "  AfterEnum:       true\n",
    "  AfterStruct:     true\n",
    "  AfterUnion:      true\n",
    "  BeforeCatch:     true\n",
    "  BeforeElse:      true\n",
    "  AfterControlStatement: true\n",
    "  SplitEmptyFunction:    true\n",
    "  SplitEmptyRecord:      true\n",
    "  SplitEmptyNamespace:   true\n",
    "BreakBeforeBraces: Custom\n",
    "BreakConstructorInitializers: BeforeComma\n",
    "ColumnLimit: 150\n",
    "Cpp11BracedListStyle: true\n",
    "DerivePointerAlignment: true\n",
    "IndentWidth: 4\n",
    "Language: Cpp\n",
    "PointerAlignment: Left\n",
    "Standard: Cpp11\n",
    "TabWidth: 4\n",
    "UseTab: Never\n",
    "FixNamespaceComments: true\n",
    "\n",
    "...\n",
    "```"
   ]
  }
 ],
 "metadata": {
  "celltoolbar": "Tags",
  "kernelspec": {
   "display_name": "Python 3 (ipykernel)",
   "language": "python",
   "name": "python3"
  },
  "language_info": {
   "codemirror_mode": {
    "name": "ipython",
    "version": 3
   },
   "file_extension": ".py",
   "mimetype": "text/x-python",
   "name": "python",
   "nbconvert_exporter": "python",
   "pygments_lexer": "ipython3",
   "version": "3.11.10"
  }
 },
 "nbformat": 4,
 "nbformat_minor": 5
}
